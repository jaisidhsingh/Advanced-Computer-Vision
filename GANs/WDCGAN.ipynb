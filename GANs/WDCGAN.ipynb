{
  "nbformat": 4,
  "nbformat_minor": 0,
  "metadata": {
    "colab": {
      "name": "WDCGAN.ipynb",
      "provenance": [],
      "authorship_tag": "ABX9TyPsroHMhHsDxdfzK3R1dJfn",
      "include_colab_link": true
    },
    "kernelspec": {
      "name": "python3",
      "display_name": "Python 3"
    },
    "language_info": {
      "name": "python"
    },
    "accelerator": "GPU"
  },
  "cells": [
    {
      "cell_type": "markdown",
      "metadata": {
        "id": "view-in-github",
        "colab_type": "text"
      },
      "source": [
        "<a href=\"https://colab.research.google.com/github/jaisidhsingh/Advanced-Computer-Vision/blob/main/GANs/WDCGAN.ipynb\" target=\"_parent\"><img src=\"https://colab.research.google.com/assets/colab-badge.svg\" alt=\"Open In Colab\"/></a>"
      ]
    },
    {
      "cell_type": "code",
      "metadata": {
        "id": "_cRTnnl_lX4W"
      },
      "source": [
        "import torch\n",
        "import torch.nn as nn\n",
        "import torch.optim as optim\n",
        "import torchvision\n",
        "import torchvision.datasets as datasets\n",
        "import torchvision.transforms as transforms\n",
        "from torch.utils.data import DataLoader\n",
        "\n",
        "# Hyperparameters \n",
        "device = torch.device(\"cuda\" if torch.cuda.is_available() else \"cpu\")\n",
        "LEARNING_RATE = 5e-5  # could also use two lrs, one for gen and one for disc\n",
        "CHANNELS_IMG = 1\n",
        "NOISE_DIM = 128\n",
        "NUM_EPOCHS = 5\n",
        "FEATURES_DISC = 64\n",
        "FEATURES_GEN = 64\n",
        "CRITIC_ITERATIONS = 5\n",
        "WEIGHT_CLIP = 0.01\n",
        "BATCH_SIZE = 64\n",
        "IMAGE_SIZE = 64\n",
        "\n",
        "transforms = transforms.Compose(\n",
        "    [\n",
        "        transforms.Resize(IMAGE_SIZE),\n",
        "        transforms.ToTensor(),\n",
        "        transforms.Normalize(\n",
        "            [0.5 for _ in range(CHANNELS_IMG)], [0.5 for _ in range(CHANNELS_IMG)]\n",
        "        ),\n",
        "    ]\n",
        ")\n",
        "\n",
        "\n",
        "dataset = datasets.MNIST(root=\"dataset/\", train=True, transform=transforms,\n",
        "                       download=True)\n",
        "dataloader = DataLoader(dataset, batch_size=BATCH_SIZE, shuffle=True)"
      ],
      "execution_count": 16,
      "outputs": []
    },
    {
      "cell_type": "code",
      "metadata": {
        "id": "5im1XuYUlY2g"
      },
      "source": [
        "class ConvBlock(nn.Module):\n",
        "    def __init__(self, in_channels, out_channels, kernel_size, stride, padding):\n",
        "        super(ConvBlock, self).__init__()\n",
        "        self.block = nn.Sequential(\n",
        "            nn.Conv2d(in_channels, out_channels, kernel_size, stride, padding, bias=False),\n",
        "            nn.BatchNorm2d(out_channels),\n",
        "            nn.LeakyReLU(0.2)\n",
        "        )\n",
        "    \n",
        "    def forward(self, x):\n",
        "        return self.block(x)\n",
        "\n",
        "\n",
        "\n",
        "class ConvTransposeBlock(nn.Module):\n",
        "    def __init__(self, in_channels, out_channels, kernel_size, stride, padding):\n",
        "        super(ConvTransposeBlock, self).__init__()\n",
        "        self.block = nn.Sequential(\n",
        "            nn.ConvTranspose2d(in_channels, out_channels, kernel_size, stride, padding, bias=False),\n",
        "            nn.BatchNorm2d(out_channels),\n",
        "            nn.ReLU()\n",
        "        )\n",
        "    \n",
        "    def forward(self, x):\n",
        "        return self.block(x)\n",
        "\n",
        "\n",
        "\n",
        "class Discriminator(nn.Module):\n",
        "    def __init__(self, img_channels, features):\n",
        "        super(Discriminator, self).__init__()\n",
        "        self.disc = nn.Sequential(\n",
        "            nn.Conv2d(img_channels, features, kernel_size=4, stride=2, padding=1),\n",
        "            nn.LeakyReLU(0.2),\n",
        "            ConvBlock(features, features*2, 4, 2, 1),\n",
        "            ConvBlock(features*2, features*4, 4, 2, 1),\n",
        "            ConvBlock(features*4, features*8, 4, 2, 1),\n",
        "            nn.Conv2d(features*8, 1, kernel_size=4, stride=2, padding=0)\n",
        "        )\n",
        "    \n",
        "    def forward(self, x):\n",
        "        return self.disc(x)\n",
        "\n",
        "\n",
        "class Generator(nn.Module):\n",
        "    def __init__(self, noise_channels, img_channels, features):\n",
        "        super(Generator, self).__init__()\n",
        "        self.gen = nn.Sequential(\n",
        "            ConvTransposeBlock(noise_channels, features*16, 4, 1, 0),\n",
        "            ConvTransposeBlock(features*16, features*8, 4, 2, 1),\n",
        "            ConvTransposeBlock(features*8, features*4, 4, 2, 1),\n",
        "            ConvTransposeBlock(features*4, features*2, 4, 2, 1),\n",
        "            nn.ConvTranspose2d(features*2, img_channels, kernel_size=4, stride=2, padding=1),\n",
        "            nn.Tanh()\n",
        "        )\n",
        "    \n",
        "    def forward(self, x):\n",
        "        return self.gen(x)\n",
        "    \n",
        "\n",
        "def initialize_weights(model):\n",
        "    for module in model.modules():\n",
        "        if isinstance(module, (nn.Conv2d, nn.ConvTranspose2d, nn.BatchNorm2d)):\n",
        "            nn.init.normal_(module.weight.data, 0.0, 0.02)\n"
      ],
      "execution_count": 17,
      "outputs": []
    },
    {
      "cell_type": "code",
      "metadata": {
        "colab": {
          "base_uri": "https://localhost:8080/"
        },
        "id": "5TFEQNi_lgRg",
        "outputId": "4e0f65a4-edab-48aa-d05d-7928722b4a01"
      },
      "source": [
        "# Train Loop:\n",
        "\n",
        "gen = Generator(NOISE_DIM, CHANNELS_IMG, FEATURES_GEN).to(device)\n",
        "disc = Discriminator(CHANNELS_IMG, FEATURES_DISC).to(device)\n",
        "initialize_weights(gen)\n",
        "initialize_weights(disc)\n",
        "\n",
        "opt_gen = optim.RMSprop(gen.parameters(), lr=LEARNING_RATE)\n",
        "opt_disc = optim.RMSprop(disc.parameters(), lr=LEARNING_RATE)\n",
        "fixed_noise = torch.randn(32, NOISE_DIM, 1, 1).to(device)\n",
        "\n",
        "gen.train()\n",
        "disc.train()\n",
        "\n",
        "for epoch in range(NUM_EPOCHS):\n",
        "    for batch_idx, (real, _) in enumerate(dataloader):\n",
        "        real = real.to(device)\n",
        "        noise = torch.randn(BATCH_SIZE, NOISE_DIM, 1, 1).to(device)\n",
        "        fake = gen(noise)\n",
        "\n",
        "        # maximize E(D(pr)) - E(D(Pg))\n",
        "        for iteraion in range(CRITIC_ITERATIONS):\n",
        "            critic_real = disc(real).reshape(-1)\n",
        "            critic_fake = disc(fake).reshape(-1)\n",
        "            critic_loss = -(torch.mean(critic_real) - torch.mean(critic_fake)) # minimize the neagative to maximize mean of f(Pr) - mean of f(Pg) as in the paper\n",
        "            disc.zero_grad()\n",
        "            critic_loss.backward(retain_graph=True)\n",
        "            opt_disc.step()\n",
        "        \n",
        "            # clip weights from (-w_clip to +w_clip)\n",
        "            for param in disc.parameters():\n",
        "                param.data.clamp_(-WEIGHT_CLIP, WEIGHT_CLIP)\n",
        "            \n",
        "        # maximize E(D(Pg))\n",
        "        output = disc(fake).reshape(-1)\n",
        "        gen_loss = -torch.mean(output) # maximize by minizing the negative\n",
        "        gen.zero_grad()\n",
        "        gen_loss.backward()\n",
        "        opt_gen.step()\n",
        "\n",
        "    print(f\"Epoch [{epoch}/{NUM_EPOCHS}] Batch {batch_idx}/{len(dataloader)} \\ Loss D: {critic_loss:.4f}, loss G: {gen_loss:.4f}\")"
      ],
      "execution_count": 18,
      "outputs": [
        {
          "output_type": "stream",
          "text": [
            "Epoch [0/5] Batch 937/938 \\ Loss D: -1.5365, loss G: 0.7256\n",
            "Epoch [1/5] Batch 937/938 \\ Loss D: -1.5288, loss G: 0.7235\n",
            "Epoch [2/5] Batch 937/938 \\ Loss D: -1.0780, loss G: 0.6575\n",
            "Epoch [3/5] Batch 937/938 \\ Loss D: -1.2082, loss G: 0.5831\n",
            "Epoch [4/5] Batch 937/938 \\ Loss D: -1.0480, loss G: 0.6400\n"
          ],
          "name": "stdout"
        }
      ]
    },
    {
      "cell_type": "code",
      "metadata": {
        "colab": {
          "base_uri": "https://localhost:8080/",
          "height": 268
        },
        "id": "Xtn8bUadtnLh",
        "outputId": "b60162fd-1be6-45d0-dc96-9f47dbf58033"
      },
      "source": [
        "# Testing generator\n",
        "\n",
        "gen.eval()\n",
        "\n",
        "TEST_CASES = 1\n",
        "test = torch.randn(TEST_CASES, NOISE_DIM, 1, 1).to(device)\n",
        "output = gen(test)\n",
        "\n",
        "output = output.detach().cpu().numpy()\n",
        "output = output.reshape((output.shape[0], output.shape[2], output.shape[3]))\n",
        "import matplotlib.pyplot as plt\n",
        "\n",
        "for image in output:\n",
        "    plt.imshow(image)\n",
        "    plt.show()\n"
      ],
      "execution_count": 19,
      "outputs": [
        {
          "output_type": "display_data",
          "data": {
            "image/png": "[encoded data removed]",
            "text/plain": [
              "<Figure size 432x288 with 1 Axes>"
            ]
          },
          "metadata": {
            "tags": [],
            "needs_background": "light"
          }
        }
      ]
    },
    {
      "cell_type": "code",
      "metadata": {
        "id": "OwM9YoZQ4cq1"
      },
      "source": [
        ""
      ],
      "execution_count": null,
      "outputs": []
    }
  ]
}